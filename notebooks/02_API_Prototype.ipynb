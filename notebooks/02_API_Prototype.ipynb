{
 "cells": [
  {
   "cell_type": "markdown",
   "metadata": {},
   "source": [
    "# BW Project Title\n",
    "\n",
    "## Team Members\n",
    "- Name #1\n",
    "- ...\n",
    "\n",
    "## Project Description\n",
    "Insert a short 1-2 sentence description of what you plan to build."
   ]
  },
  {
   "cell_type": "code",
   "execution_count": 1,
   "metadata": {},
   "outputs": [
    {
     "name": "stdout",
     "output_type": "stream",
     "text": [
      "Numpy Version: 1.19.2\n",
      "Tensorflow Version: 2.4.0\n"
     ]
    }
   ],
   "source": [
    "# Import required packages\n",
    "import numpy as np\n",
    "import tensorflow as tf\n",
    "\n",
    "print(f'Numpy Version: {np.__version__}')\n",
    "print(f'Tensorflow Version: {tf.__version__}')\n",
    "\n",
    "''' Expected Output\n",
    "Numpy Version: 1.19.2\n",
    "Tensorflow Version: 2.4.0\n",
    "'''"
   ]
  },
  {
   "cell_type": "markdown",
   "metadata": {},
   "source": [
    "## Load Final Model"
   ]
  },
  {
   "cell_type": "code",
   "execution_count": null,
   "metadata": {},
   "outputs": [],
   "source": [
    "import joblib\n",
    "\n",
    "model = joblib.load('../models/model_name.joblib')"
   ]
  },
  {
   "cell_type": "markdown",
   "metadata": {},
   "source": [
    "## API Prototype `get_prediction` Function"
   ]
  },
  {
   "cell_type": "code",
   "execution_count": null,
   "metadata": {},
   "outputs": [],
   "source": [
    "# Can also add helper functions\n",
    "# def clean_text(input_text):\n",
    "#    return cleaned_text\n",
    "\n",
    "def get_prediction(sample_input):\n",
    "    \"\"\"One line summary of this function.\n",
    "\n",
    "    Args:\n",
    "        param1: This is the first param.\n",
    "        param2: This is a second param.\n",
    "\n",
    "    Returns:\n",
    "        This is a description of what is returned.\n",
    "    \"\"\"\n",
    "    \n",
    "    # Insert code to return a prediction here\n",
    "    \n",
    "    return json.dumps({'prediction': pred,\n",
    "                       'other_metadata': ...})"
   ]
  },
  {
   "cell_type": "code",
   "execution_count": null,
   "metadata": {},
   "outputs": [],
   "source": [
    "# Test function with sample input\n",
    "sample_input = [val1, val2, val3, etc.]\n",
    "get_prediction(input1)"
   ]
  }
 ],
 "metadata": {
  "kernelspec": {
   "display_name": "Python 3",
   "language": "python",
   "name": "python3"
  },
  "language_info": {
   "codemirror_mode": {
    "name": "ipython",
    "version": 3
   },
   "file_extension": ".py",
   "mimetype": "text/x-python",
   "name": "python",
   "nbconvert_exporter": "python",
   "pygments_lexer": "ipython3",
   "version": "3.8.5"
  }
 },
 "nbformat": 4,
 "nbformat_minor": 4
}
